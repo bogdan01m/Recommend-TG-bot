{
 "cells": [
  {
   "cell_type": "code",
   "execution_count": 20,
   "metadata": {},
   "outputs": [],
   "source": [
    "from sklearn.metrics.pairwise import linear_kernel\n",
    "from sklearn.neighbors import NearestNeighbors\n",
    "import numpy as np\n",
    "from tqdm import tqdm_notebook\n",
    "import pandas as pd\n",
    "import pandas as pd\n",
    "import seaborn as sns\n",
    "import numpy as np\n",
    "import warnings\n",
    "from matplotlib.pyplot import imread\n",
    "import matplotlib.pyplot as plt\n",
    "plt.style.use('fivethirtyeight')\n",
    "warnings.filterwarnings('ignore')"
   ]
  },
  {
   "cell_type": "code",
   "execution_count": 21,
   "metadata": {},
   "outputs": [],
   "source": [
    "data=pd.read_csv('full_data.csv')"
   ]
  },
  {
   "cell_type": "code",
   "execution_count": 22,
   "metadata": {},
   "outputs": [],
   "source": [
    "movies=data.заголовок"
   ]
  },
  {
   "cell_type": "code",
   "execution_count": 23,
   "metadata": {},
   "outputs": [
    {
     "data": {
      "text/html": [
       "<div>\n",
       "<style scoped>\n",
       "    .dataframe tbody tr th:only-of-type {\n",
       "        vertical-align: middle;\n",
       "    }\n",
       "\n",
       "    .dataframe tbody tr th {\n",
       "        vertical-align: top;\n",
       "    }\n",
       "\n",
       "    .dataframe thead th {\n",
       "        text-align: right;\n",
       "    }\n",
       "</style>\n",
       "<table border=\"1\" class=\"dataframe\">\n",
       "  <thead>\n",
       "    <tr style=\"text-align: right;\">\n",
       "      <th></th>\n",
       "      <th>vote_average</th>\n",
       "    </tr>\n",
       "    <tr>\n",
       "      <th>заголовок</th>\n",
       "      <th></th>\n",
       "    </tr>\n",
       "  </thead>\n",
       "  <tbody>\n",
       "    <tr>\n",
       "      <th>Танцовщица, Texas Pop. 81 (1998)</th>\n",
       "      <td>10.0</td>\n",
       "    </tr>\n",
       "    <tr>\n",
       "      <th>Криминальное чтиво (1994)</th>\n",
       "      <td>8.3</td>\n",
       "    </tr>\n",
       "    <tr>\n",
       "      <th>Список Шиндлера (1993)</th>\n",
       "      <td>8.3</td>\n",
       "    </tr>\n",
       "    <tr>\n",
       "      <th>Бойцовский клуб (1999)</th>\n",
       "      <td>8.3</td>\n",
       "    </tr>\n",
       "    <tr>\n",
       "      <th>Энн из Зеленых Мезонинов (1985)</th>\n",
       "      <td>8.2</td>\n",
       "    </tr>\n",
       "    <tr>\n",
       "      <th>Пролетая над гнездом кукушки (1975)</th>\n",
       "      <td>8.2</td>\n",
       "    </tr>\n",
       "    <tr>\n",
       "      <th>Американская история X (1998)</th>\n",
       "      <td>8.2</td>\n",
       "    </tr>\n",
       "    <tr>\n",
       "      <th>Славные парни (1990)</th>\n",
       "      <td>8.2</td>\n",
       "    </tr>\n",
       "    <tr>\n",
       "      <th>Однажды в Америке (1984)</th>\n",
       "      <td>8.2</td>\n",
       "    </tr>\n",
       "    <tr>\n",
       "      <th>Форрест Гамп (1994)</th>\n",
       "      <td>8.2</td>\n",
       "    </tr>\n",
       "  </tbody>\n",
       "</table>\n",
       "</div>"
      ],
      "text/plain": [
       "                                      vote_average\n",
       "заголовок                                         \n",
       " Танцовщица, Texas Pop. 81 (1998)             10.0\n",
       " Криминальное чтиво (1994)                     8.3\n",
       " Список Шиндлера (1993)                        8.3\n",
       " Бойцовский клуб (1999)                        8.3\n",
       " Энн из Зеленых Мезонинов (1985)               8.2\n",
       " Пролетая над гнездом кукушки (1975)           8.2\n",
       " Американская история X (1998)                 8.2\n",
       " Славные парни (1990)                          8.2\n",
       " Однажды в Америке (1984)                      8.2\n",
       " Форрест Гамп (1994)                           8.2"
      ]
     },
     "execution_count": 23,
     "metadata": {},
     "output_type": "execute_result"
    }
   ],
   "source": [
    "top_films = data.groupby('заголовок')[['vote_average']].mean().sort_values('vote_average', ascending=False)\n",
    "top_films.head(10)"
   ]
  },
  {
   "cell_type": "code",
   "execution_count": 24,
   "metadata": {},
   "outputs": [],
   "source": [
    "# возьмем только фильмы с наивысшей средней оценкой в 5.0\n",
    "films_with_highest_marks = top_films.iloc[np.where(top_films.vote_average >= 7.5)].index"
   ]
  },
  {
   "cell_type": "code",
   "execution_count": 25,
   "metadata": {},
   "outputs": [
    {
     "data": {
      "application/vnd.jupyter.widget-view+json": {
       "model_id": "edeb3d4797ca4064b88b6655be4e15be",
       "version_major": 2,
       "version_minor": 0
      },
      "text/plain": [
       "  0%|          | 0/2536 [00:00<?, ?it/s]"
      ]
     },
     "metadata": {},
     "output_type": "display_data"
    }
   ],
   "source": [
    "# достанем по каждому фильму количество рейтингов\n",
    "title_num_ratings = {}\n",
    "\n",
    "for title, group in tqdm_notebook(data.groupby('заголовок')):\n",
    "    title_num_ratings[title] = group.movieId.unique().shape[0]"
   ]
  },
  {
   "cell_type": "code",
   "execution_count": 26,
   "metadata": {},
   "outputs": [
    {
     "data": {
      "text/plain": [
       "[(1, ' Танцовщица, Texas Pop. 81 (1998)'),\n",
       " (1, ' Криминальное чтиво (1994)'),\n",
       " (1, ' Список Шиндлера (1993)'),\n",
       " (1, ' Бойцовский клуб (1999)'),\n",
       " (1, ' Энн из Зеленых Мезонинов (1985)'),\n",
       " (1, ' Пролетая над гнездом кукушки (1975)'),\n",
       " (1, ' Американская история X (1998)'),\n",
       " (1, ' Славные парни (1990)'),\n",
       " (1, ' Однажды в Америке (1984)'),\n",
       " (1, ' Форрест Гамп (1994)')]"
      ]
     },
     "execution_count": 26,
     "metadata": {},
     "output_type": "execute_result"
    }
   ],
   "source": [
    "sorted([(title_num_ratings[f], f) for f in films_with_highest_marks], key=lambda x: x[0], reverse=True)[:10]"
   ]
  },
  {
   "cell_type": "code",
   "execution_count": 27,
   "metadata": {},
   "outputs": [],
   "source": [
    "cast=pd.read_csv('cast_bert.csv')\n",
    "directors=pd.read_csv('directors_bert.csv')\n",
    "genres=pd.read_csv('genres_bert.csv')\n",
    "keywords=pd.read_csv('keywords_bert.csv')"
   ]
  },
  {
   "cell_type": "code",
   "execution_count": 28,
   "metadata": {},
   "outputs": [
    {
     "data": {
      "text/plain": [
       "Index(['заголовок', 'movieId', 'title', 'id', 'genres', 'cast', 'vote_average',\n",
       "       'director', 'keywords', 'title_key', 'title_ru', 'directors_x1',\n",
       "       'directors_x2', 'directors_cluster', 'genre_x1', 'genre_x2', 'genre_x3',\n",
       "       'genre_cluster', 'cast_x1', 'cast_x2', 'cast_cluster', 'keywords_x1',\n",
       "       'keywords_x2', 'keywords_cluster'],\n",
       "      dtype='object')"
      ]
     },
     "execution_count": 28,
     "metadata": {},
     "output_type": "execute_result"
    }
   ],
   "source": [
    "data.columns"
   ]
  },
  {
   "cell_type": "code",
   "execution_count": 29,
   "metadata": {},
   "outputs": [],
   "source": [
    "X=pd.concat([cast, directors, genres, keywords,data.vote_average], axis=1)"
   ]
  },
  {
   "cell_type": "code",
   "execution_count": 30,
   "metadata": {},
   "outputs": [
    {
     "data": {
      "text/plain": [
       "(2537, 3073)"
      ]
     },
     "execution_count": 30,
     "metadata": {},
     "output_type": "execute_result"
    }
   ],
   "source": [
    "X.shape"
   ]
  },
  {
   "cell_type": "code",
   "execution_count": 31,
   "metadata": {},
   "outputs": [],
   "source": [
    "from sklearn.metrics.pairwise import cosine_distances\n",
    "from sklearn.metrics.pairwise import manhattan_distances\n",
    "from sklearn.metrics.pairwise import euclidean_distances\n",
    "from sklearn.metrics.pairwise import laplacian_kernel"
   ]
  },
  {
   "cell_type": "code",
   "execution_count": 36,
   "metadata": {},
   "outputs": [],
   "source": [
    "cosine_sim = manhattan_distances(X, X)"
   ]
  },
  {
   "cell_type": "code",
   "execution_count": 37,
   "metadata": {},
   "outputs": [
    {
     "data": {
      "text/plain": [
       "заголовок\n",
       " История игрушек (1995)          0\n",
       " Золотой глаз (1995)             1\n",
       " Никсон (1995)                   2\n",
       " Остров головорезов (1995)       3\n",
       " Казино (1995)                   4\n",
       "                              ... \n",
       " Инфильтратор (2016)          2532\n",
       " Плохие мамочки (2016)        2533\n",
       " Площадь (2017)               2534\n",
       " Сияние (1997)                2535\n",
       " Буйство (2018)               2536\n",
       "Length: 2537, dtype: int64"
      ]
     },
     "execution_count": 37,
     "metadata": {},
     "output_type": "execute_result"
    }
   ],
   "source": [
    "indices = pd.Series(data.index, index = data['заголовок']).drop_duplicates()\n",
    "indices"
   ]
  },
  {
   "cell_type": "code",
   "execution_count": 38,
   "metadata": {},
   "outputs": [],
   "source": [
    "def get_recommendation(title, cosine_sim = cosine_sim):\n",
    "    idx = indices[title]\n",
    "    sim_scores = enumerate(cosine_sim[idx])\n",
    "    sim_scores = sorted(sim_scores, key = lambda x: x[1], reverse = True)\n",
    "    sim_scores = sim_scores[1:11]\n",
    "    sim_index = [i[0] for i in sim_scores]\n",
    "    print(data[\"заголовок\"].iloc[sim_index])"
   ]
  },
  {
   "cell_type": "code",
   "execution_count": 41,
   "metadata": {},
   "outputs": [
    {
     "name": "stdout",
     "output_type": "stream",
     "text": [
      "1195                 Тупак: Воскрешение (2003)\n",
      "329           Большое приключение Барни (1998)\n",
      "1039                          Унесенные (2002)\n",
      "1312                        Мистер 3000 (2004)\n",
      "1153                   Открытый полигон (2003)\n",
      "1012     Мартин Лоуренс Live: Runteldat (2002)\n",
      "642                  Шанхайский сюрприз (1986)\n",
      "2259                       Все потеряно (2013)\n",
      "648                  Школьное изумление (1988)\n",
      "2084                Счастливые ноги два (2011)\n",
      "Name: заголовок, dtype: object\n"
     ]
    }
   ],
   "source": [
    "get_recommendation(' Сияние (1997)')"
   ]
  },
  {
   "cell_type": "markdown",
   "metadata": {},
   "source": [
    "Metrics for Co filtering"
   ]
  },
  {
   "cell_type": "code",
   "execution_count": 42,
   "metadata": {},
   "outputs": [],
   "source": [
    "def check_inputs(func) :\n",
    "    \"\"\"\n",
    "    Decorator function to validate inputs to precision_at_k & recall_at_k\n",
    "    \"\"\"\n",
    "    def checker(df: pd.DataFrame, k: int=3, y_test: str='y_actual', y_pred: str='y_recommended') -> float:\n",
    "        # check we have a valid entry for k\n",
    "        if k <= 0:\n",
    "            raise ValueError(f'Value of k should be greater than 1, read in as: {k}')\n",
    "        # check y_test & y_pred columns are in df\n",
    "        if y_test not in df.columns:\n",
    "            raise ValueError(f'Input dataframe does not have a column named: {y_test}')\n",
    "        if y_pred not in df.columns:\n",
    "            raise ValueError(f'Input dataframe does not have a column named: {y_pred}')\n",
    "        return func(df, k, y_test, y_pred)\n",
    "    return checker\n",
    "\n",
    "@check_inputs\n",
    "def precision_at_k(df: pd.DataFrame, k: int, y_test: str, y_pred: str) -> float:\n",
    "    \"\"\"\n",
    "    Function to compute precision@k for an input boolean dataframe\n",
    "    \n",
    "    Inputs:\n",
    "        df     -> pandas dataframe containing boolean columns y_test & y_pred\n",
    "        k      -> integer number of items to consider\n",
    "        y_test -> string name of column containing actual user input\n",
    "        y-pred -> string name of column containing recommendation output\n",
    "        \n",
    "    Output:\n",
    "        Floating-point number of precision value for k items\n",
    "    \"\"\"       \n",
    "    # extract the k rows\n",
    "    dfK = df.head(k)\n",
    "    # compute number of recommended items @k\n",
    "    denominator = dfK[y_pred].sum()\n",
    "    # compute number of recommended items that are relevant @k\n",
    "    numerator = dfK[dfK[y_pred] & dfK[y_test]].shape[0]\n",
    "    # return result\n",
    "    if denominator > 0:\n",
    "        return numerator/denominator\n",
    "    else:\n",
    "        return None\n",
    "\n",
    "@check_inputs\n",
    "def recall_at_k(df: pd.DataFrame, k: int, y_test: str, y_pred: str) -> float:\n",
    "    \"\"\"\n",
    "    Function to compute recall@k for an input boolean dataframe\n",
    "    \n",
    "    Inputs:\n",
    "        df     -> pandas dataframe containing boolean columns y_test & y_pred\n",
    "        k      -> integer number of items to consider\n",
    "        y_test -> string name of column containing actual user input\n",
    "        y-pred -> string name of column containing recommendation output\n",
    "        \n",
    "    Output:\n",
    "        Floating-point number of recall value for k items\n",
    "    \"\"\"    \n",
    "    # extract the k rows\n",
    "    dfK = df.head(k)\n",
    "    # compute number of all relevant items\n",
    "    denominator = df[y_test].sum()\n",
    "    # compute number of recommended items that are relevant @k\n",
    "    numerator = dfK[dfK[y_pred] & dfK[y_test]].shape[0]\n",
    "    # return result\n",
    "    if denominator > 0:\n",
    "        return numerator/denominator\n",
    "    else:\n",
    "        return None"
   ]
  },
  {
   "cell_type": "code",
   "execution_count": null,
   "metadata": {},
   "outputs": [],
   "source": []
  }
 ],
 "metadata": {
  "kernelspec": {
   "display_name": "Python 3",
   "language": "python",
   "name": "python3"
  },
  "language_info": {
   "codemirror_mode": {
    "name": "ipython",
    "version": 3
   },
   "file_extension": ".py",
   "mimetype": "text/x-python",
   "name": "python",
   "nbconvert_exporter": "python",
   "pygments_lexer": "ipython3",
   "version": "3.11.5"
  }
 },
 "nbformat": 4,
 "nbformat_minor": 2
}
